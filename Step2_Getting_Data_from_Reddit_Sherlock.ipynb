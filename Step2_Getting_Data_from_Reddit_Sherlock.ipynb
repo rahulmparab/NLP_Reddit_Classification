{
 "cells": [
  {
   "cell_type": "code",
   "execution_count": 1,
   "metadata": {},
   "outputs": [],
   "source": [
    "# imports\n",
    "\n",
    "import numpy as np\n",
    "import requests\n",
    "import pandas as pd\n",
    "import time"
   ]
  },
  {
   "cell_type": "code",
   "execution_count": 3,
   "metadata": {},
   "outputs": [
    {
     "name": "stdout",
     "output_type": "stream",
     "text": [
      "res 1 code:  200\n",
      "res 2 code:  200\n",
      "res 3 code:  200\n",
      "res 4 code:  200\n",
      "res 5 code:  200\n",
      "res 6 code:  200\n",
      "res 7 code:  200\n",
      "res 8 code:  200\n",
      "res 9 code:  200\n",
      "res 10 code:  200\n"
     ]
    }
   ],
   "source": [
    "url = 'https://api.pushshift.io/reddit/submission/search'\n",
    "dfs = []\n",
    "loops = 10\n",
    "subreddit = 'SherlockHolmes' # Created Jul 6, 2009\n",
    "start_time = time.time()\n",
    "params = {\n",
    "    'subreddit': subreddit,\n",
    "    'size': 50,\n",
    "    'before': round(start_time)\n",
    "    }\n",
    "for i in range(loops):\n",
    "    current_time = time.time()\n",
    "\n",
    "    res = requests.get(url, params)\n",
    "    print(f'res {i+1} code: ', res.status_code)\n",
    "    data = res.json()\n",
    "    posts = data['data']\n",
    "    post_df = pd.DataFrame(posts)\n",
    "    dfs.append(post_df)\n",
    "    #get oldest post time and use as before parameter in next request\n",
    "    oldest = post_df['created_utc'].min()\n",
    "    params['before'] = oldest\n",
    "    time.sleep(60)\n",
    "holmes_posts_df = pd.concat(dfs)\n",
    "#filename = subreddit + '.csv'\n",
    "#reddit_posts.to_csv('./datasets/' + filename, index=False)"
   ]
  },
  {
   "cell_type": "code",
   "execution_count": 4,
   "metadata": {},
   "outputs": [
    {
     "data": {
      "text/html": [
       "<div>\n",
       "<style scoped>\n",
       "    .dataframe tbody tr th:only-of-type {\n",
       "        vertical-align: middle;\n",
       "    }\n",
       "\n",
       "    .dataframe tbody tr th {\n",
       "        vertical-align: top;\n",
       "    }\n",
       "\n",
       "    .dataframe thead th {\n",
       "        text-align: right;\n",
       "    }\n",
       "</style>\n",
       "<table border=\"1\" class=\"dataframe\">\n",
       "  <thead>\n",
       "    <tr style=\"text-align: right;\">\n",
       "      <th></th>\n",
       "      <th>title</th>\n",
       "      <th>selftext</th>\n",
       "    </tr>\n",
       "  </thead>\n",
       "  <tbody>\n",
       "    <tr>\n",
       "      <th>0</th>\n",
       "      <td>🎄🔎 A Sherlock Holmes Christmas: Grey Reads The...</td>\n",
       "      <td></td>\n",
       "    </tr>\n",
       "    <tr>\n",
       "      <th>1</th>\n",
       "      <td>The adventures of Sherlock and John</td>\n",
       "      <td></td>\n",
       "    </tr>\n",
       "    <tr>\n",
       "      <th>2</th>\n",
       "      <td>Looking for 40ties movies similar to the Rathb...</td>\n",
       "      <td>I love the film noir and comedy mixture of the...</td>\n",
       "    </tr>\n",
       "    <tr>\n",
       "      <th>3</th>\n",
       "      <td>\"Enola Holmes\" Copyright Lawsuit</td>\n",
       "      <td>For those of you following the Doyle estate's ...</td>\n",
       "    </tr>\n",
       "    <tr>\n",
       "      <th>4</th>\n",
       "      <td>SherlockHolmes</td>\n",
       "      <td></td>\n",
       "    </tr>\n",
       "    <tr>\n",
       "      <th>...</th>\n",
       "      <td>...</td>\n",
       "      <td>...</td>\n",
       "    </tr>\n",
       "    <tr>\n",
       "      <th>33</th>\n",
       "      <td>Or /r/Sherlock.</td>\n",
       "      <td></td>\n",
       "    </tr>\n",
       "    <tr>\n",
       "      <th>34</th>\n",
       "      <td>A proper gun for Holmes?  Johnson Arms</td>\n",
       "      <td></td>\n",
       "    </tr>\n",
       "    <tr>\n",
       "      <th>35</th>\n",
       "      <td>Awww. Really, society?</td>\n",
       "      <td>I can't believe that this is not a popular sub...</td>\n",
       "    </tr>\n",
       "    <tr>\n",
       "      <th>36</th>\n",
       "      <td>Who was more awesome?  Sherlock Holmes or Fran...</td>\n",
       "      <td></td>\n",
       "    </tr>\n",
       "    <tr>\n",
       "      <th>37</th>\n",
       "      <td>What's your favorite Sherlock Holmes story?</td>\n",
       "      <td></td>\n",
       "    </tr>\n",
       "  </tbody>\n",
       "</table>\n",
       "<p>488 rows × 2 columns</p>\n",
       "</div>"
      ],
      "text/plain": [
       "                                                title  \\\n",
       "0   🎄🔎 A Sherlock Holmes Christmas: Grey Reads The...   \n",
       "1                 The adventures of Sherlock and John   \n",
       "2   Looking for 40ties movies similar to the Rathb...   \n",
       "3                    \"Enola Holmes\" Copyright Lawsuit   \n",
       "4                                      SherlockHolmes   \n",
       "..                                                ...   \n",
       "33                                    Or /r/Sherlock.   \n",
       "34             A proper gun for Holmes?  Johnson Arms   \n",
       "35                             Awww. Really, society?   \n",
       "36  Who was more awesome?  Sherlock Holmes or Fran...   \n",
       "37        What's your favorite Sherlock Holmes story?   \n",
       "\n",
       "                                             selftext  \n",
       "0                                                      \n",
       "1                                                      \n",
       "2   I love the film noir and comedy mixture of the...  \n",
       "3   For those of you following the Doyle estate's ...  \n",
       "4                                                      \n",
       "..                                                ...  \n",
       "33                                                     \n",
       "34                                                     \n",
       "35  I can't believe that this is not a popular sub...  \n",
       "36                                                     \n",
       "37                                                     \n",
       "\n",
       "[488 rows x 2 columns]"
      ]
     },
     "execution_count": 4,
     "metadata": {},
     "output_type": "execute_result"
    }
   ],
   "source": [
    "holmes_posts_df[['title', 'selftext']]"
   ]
  },
  {
   "cell_type": "code",
   "execution_count": 6,
   "metadata": {},
   "outputs": [
    {
     "data": {
      "text/plain": [
       "1281381116"
      ]
     },
     "execution_count": 6,
     "metadata": {},
     "output_type": "execute_result"
    }
   ],
   "source": [
    "holmes_posts_df['created_utc'].min()"
   ]
  },
  {
   "cell_type": "code",
   "execution_count": 5,
   "metadata": {},
   "outputs": [
    {
     "data": {
      "text/plain": [
       "488"
      ]
     },
     "execution_count": 5,
     "metadata": {},
     "output_type": "execute_result"
    }
   ],
   "source": [
    "len(holmes_posts_df)"
   ]
  },
  {
   "cell_type": "code",
   "execution_count": 7,
   "metadata": {},
   "outputs": [],
   "source": [
    "# export the file to CSv\n",
    "holmes_posts_df.to_csv(\"./datasets/holmes.csv\", index=False)"
   ]
  },
  {
   "cell_type": "code",
   "execution_count": null,
   "metadata": {},
   "outputs": [],
   "source": []
  }
 ],
 "metadata": {
  "kernelspec": {
   "display_name": "Python 3",
   "language": "python",
   "name": "python3"
  },
  "language_info": {
   "codemirror_mode": {
    "name": "ipython",
    "version": 3
   },
   "file_extension": ".py",
   "mimetype": "text/x-python",
   "name": "python",
   "nbconvert_exporter": "python",
   "pygments_lexer": "ipython3",
   "version": "3.8.3"
  }
 },
 "nbformat": 4,
 "nbformat_minor": 4
}
