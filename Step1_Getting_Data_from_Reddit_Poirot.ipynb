{
 "cells": [
  {
   "cell_type": "code",
   "execution_count": 1,
   "metadata": {},
   "outputs": [],
   "source": [
    "# imports\n",
    "\n",
    "import numpy as np\n",
    "import requests\n",
    "import pandas as pd\n",
    "import time\n",
    "import langdetect 1.0.8"
   ]
  },
  {
   "cell_type": "code",
   "execution_count": 2,
   "metadata": {},
   "outputs": [
    {
     "name": "stdout",
     "output_type": "stream",
     "text": [
      "res 1 code:  200\n",
      "res 2 code:  200\n",
      "res 3 code:  200\n",
      "res 4 code:  200\n"
     ]
    }
   ],
   "source": [
    "url = 'https://api.pushshift.io/reddit/submission/search'\n",
    "dfs = []\n",
    "loops = 4\n",
    "subreddit = 'poirot' # Created Jun 5, 2012\n",
    "start_time = time.time()\n",
    "params = {\n",
    "    'subreddit': subreddit,\n",
    "    'size': 100,\n",
    "    'before': round(start_time)\n",
    "    }\n",
    "for i in range(loops):\n",
    "    current_time = time.time()\n",
    "\n",
    "    res = requests.get(url, params)\n",
    "    print(f'res {i+1} code: ', res.status_code)\n",
    "    data = res.json()\n",
    "    posts = data['data']\n",
    "    post_df = pd.DataFrame(posts)\n",
    "    dfs.append(post_df)\n",
    "    #get oldest post time and use as before parameter in next request\n",
    "    oldest = post_df['created_utc'].min()\n",
    "    params['before'] = oldest\n",
    "    time.sleep(5)\n",
    "poirot_posts_df = pd.concat(dfs)\n",
    "#filename = subreddit + '.csv'\n",
    "#reddit_posts.to_csv('./datasets/' + filename, index=False)"
   ]
  },
  {
   "cell_type": "code",
   "execution_count": 3,
   "metadata": {},
   "outputs": [
    {
     "data": {
      "text/html": [
       "<div>\n",
       "<style scoped>\n",
       "    .dataframe tbody tr th:only-of-type {\n",
       "        vertical-align: middle;\n",
       "    }\n",
       "\n",
       "    .dataframe tbody tr th {\n",
       "        vertical-align: top;\n",
       "    }\n",
       "\n",
       "    .dataframe thead th {\n",
       "        text-align: right;\n",
       "    }\n",
       "</style>\n",
       "<table border=\"1\" class=\"dataframe\">\n",
       "  <thead>\n",
       "    <tr style=\"text-align: right;\">\n",
       "      <th></th>\n",
       "      <th>title</th>\n",
       "      <th>selftext</th>\n",
       "    </tr>\n",
       "  </thead>\n",
       "  <tbody>\n",
       "    <tr>\n",
       "      <th>0</th>\n",
       "      <td>Plz tell me</td>\n",
       "      <td>Where do people watch poirot? I am from norway...</td>\n",
       "    </tr>\n",
       "    <tr>\n",
       "      <th>1</th>\n",
       "      <td>My day started off a bit too similar \"Hercule ...</td>\n",
       "      <td>I was planning on watching the Suchet Christma...</td>\n",
       "    </tr>\n",
       "    <tr>\n",
       "      <th>2</th>\n",
       "      <td>Christmas day tradition!</td>\n",
       "      <td></td>\n",
       "    </tr>\n",
       "    <tr>\n",
       "      <th>3</th>\n",
       "      <td>Happy holidays!</td>\n",
       "      <td></td>\n",
       "    </tr>\n",
       "    <tr>\n",
       "      <th>4</th>\n",
       "      <td>What is your favorite most random scenes from ...</td>\n",
       "      <td></td>\n",
       "    </tr>\n",
       "    <tr>\n",
       "      <th>...</th>\n",
       "      <td>...</td>\n",
       "      <td>...</td>\n",
       "    </tr>\n",
       "    <tr>\n",
       "      <th>98</th>\n",
       "      <td>Favourite Poirot-to-Hastings burn?</td>\n",
       "      <td>I love their relationship and all the witty co...</td>\n",
       "    </tr>\n",
       "    <tr>\n",
       "      <th>99</th>\n",
       "      <td>You are Lucky Len of the Daily Echo and I clai...</td>\n",
       "      <td></td>\n",
       "    </tr>\n",
       "    <tr>\n",
       "      <th>0</th>\n",
       "      <td>\"It's a very good photo of Captain Hastings\"</td>\n",
       "      <td></td>\n",
       "    </tr>\n",
       "    <tr>\n",
       "      <th>1</th>\n",
       "      <td>My favourite scene from all of Poirot: Arthur ...</td>\n",
       "      <td></td>\n",
       "    </tr>\n",
       "    <tr>\n",
       "      <th>2</th>\n",
       "      <td>Every episode...</td>\n",
       "      <td></td>\n",
       "    </tr>\n",
       "  </tbody>\n",
       "</table>\n",
       "<p>303 rows × 2 columns</p>\n",
       "</div>"
      ],
      "text/plain": [
       "                                                title  \\\n",
       "0                                         Plz tell me   \n",
       "1   My day started off a bit too similar \"Hercule ...   \n",
       "2                            Christmas day tradition!   \n",
       "3                                     Happy holidays!   \n",
       "4   What is your favorite most random scenes from ...   \n",
       "..                                                ...   \n",
       "98                 Favourite Poirot-to-Hastings burn?   \n",
       "99  You are Lucky Len of the Daily Echo and I clai...   \n",
       "0        \"It's a very good photo of Captain Hastings\"   \n",
       "1   My favourite scene from all of Poirot: Arthur ...   \n",
       "2                                    Every episode...   \n",
       "\n",
       "                                             selftext  \n",
       "0   Where do people watch poirot? I am from norway...  \n",
       "1   I was planning on watching the Suchet Christma...  \n",
       "2                                                      \n",
       "3                                                      \n",
       "4                                                      \n",
       "..                                                ...  \n",
       "98  I love their relationship and all the witty co...  \n",
       "99                                                     \n",
       "0                                                      \n",
       "1                                                      \n",
       "2                                                      \n",
       "\n",
       "[303 rows x 2 columns]"
      ]
     },
     "execution_count": 3,
     "metadata": {},
     "output_type": "execute_result"
    }
   ],
   "source": [
    "poirot_posts_df[['title', 'selftext']]"
   ]
  },
  {
   "cell_type": "code",
   "execution_count": 4,
   "metadata": {},
   "outputs": [
    {
     "data": {
      "text/plain": [
       "1342667732"
      ]
     },
     "execution_count": 4,
     "metadata": {},
     "output_type": "execute_result"
    }
   ],
   "source": [
    "poirot_posts_df['created_utc'].min()"
   ]
  },
  {
   "cell_type": "code",
   "execution_count": 5,
   "metadata": {},
   "outputs": [
    {
     "data": {
      "text/plain": [
       "303"
      ]
     },
     "execution_count": 5,
     "metadata": {},
     "output_type": "execute_result"
    }
   ],
   "source": [
    "len(poirot_posts_df)"
   ]
  },
  {
   "cell_type": "code",
   "execution_count": 6,
   "metadata": {},
   "outputs": [],
   "source": [
    "# export the file to CSv\n",
    "poirot_posts_df.to_csv(\"./datasets/poirot.csv\", index=False)"
   ]
  }
 ],
 "metadata": {
  "kernelspec": {
   "display_name": "Python 3",
   "language": "python",
   "name": "python3"
  },
  "language_info": {
   "codemirror_mode": {
    "name": "ipython",
    "version": 3
   },
   "file_extension": ".py",
   "mimetype": "text/x-python",
   "name": "python",
   "nbconvert_exporter": "python",
   "pygments_lexer": "ipython3",
   "version": "3.8.3"
  }
 },
 "nbformat": 4,
 "nbformat_minor": 4
}
