{
 "cells": [
  {
   "cell_type": "markdown",
   "metadata": {},
   "source": [
    "# Import python libraries"
   ]
  },
  {
   "cell_type": "code",
   "execution_count": 1,
   "metadata": {},
   "outputs": [],
   "source": [
    "# imports\n",
    "import pandas as pd\n",
    "import matplotlib.pyplot as plt\n",
    "from sklearn.model_selection import  GridSearchCV\n",
    "from sklearn.pipeline import Pipeline\n",
    "from sklearn.tree import DecisionTreeClassifier\n",
    "from sklearn.metrics import confusion_matrix, plot_confusion_matrix\n",
    "\n",
    "\n",
    "# Import CountVectorizer and TFIDFVectorizer from feature_extraction.text.\n",
    "from sklearn.feature_extraction.text import CountVectorizer, TfidfVectorizer"
   ]
  },
  {
   "cell_type": "markdown",
   "metadata": {},
   "source": [
    "### Import Train and Test Data"
   ]
  },
  {
   "cell_type": "code",
   "execution_count": 2,
   "metadata": {},
   "outputs": [],
   "source": [
    "X_train= pd.read_csv(\"./datasets/X_train.csv\" , squeeze = True)\n",
    "y_train= pd.read_csv(\"./datasets/y_train.csv\", squeeze = True)\n",
    "\n",
    "X_test= pd.read_csv(\"./datasets/X_test.csv\" , squeeze = True)\n",
    "y_test= pd.read_csv(\"./datasets/y_test.csv\", squeeze = True)"
   ]
  },
  {
   "cell_type": "markdown",
   "metadata": {},
   "source": [
    "### Model 3: Decision Tree: Pipeline - GridSearch"
   ]
  },
  {
   "cell_type": "code",
   "execution_count": 3,
   "metadata": {},
   "outputs": [],
   "source": [
    "# Let's set a pipeline up with two stages:\n",
    "# 1. CountVectorizer (transformer)\n",
    "\n",
    "pipe = Pipeline([\n",
    "    ('cvec', CountVectorizer()),\n",
    "    ('dtc', DecisionTreeClassifier())\n",
    "])"
   ]
  },
  {
   "cell_type": "code",
   "execution_count": 4,
   "metadata": {},
   "outputs": [],
   "source": [
    "# Search over the following values of hyperparameters:\n",
    "# Maximum number of features fit: 2000, 3000, 4000, 5000\n",
    "# Minimum number of documents needed to include token: 2, 3\n",
    "# Maximum number of documents needed to include token: 90%, 95%\n",
    "# Check (individual tokens) and also check (individual tokens and 2-grams).\n",
    "pipe_params = {\n",
    "    'cvec__max_features' : [200, 300, 400, 500],\n",
    "    'cvec__stop_words' : [None, ['Sherlock' , 'Poirot'], 'english'],\n",
    "    'cvec__ngram_range' : [(1,1), (1,2)],\n",
    "     'dtc__splitter':['random' , 'best'],\n",
    "    'dtc__max_depth':[2, 3],\n",
    "    'dtc__min_samples_split':[2,5],\n",
    "    'dtc__min_samples_leaf':  [2, 3],\n",
    "    'dtc__ccp_alpha' : [0, 0.001, 0.01, 0.1, 1, 10]\n",
    "}"
   ]
  },
  {
   "cell_type": "code",
   "execution_count": 5,
   "metadata": {},
   "outputs": [],
   "source": [
    "# Instantiate GridSearchCV.\n",
    "gs_dtc = GridSearchCV(pipe,\n",
    "                      pipe_params,\n",
    "                      cv = 5,\n",
    "                      verbose=1,\n",
    "                      n_jobs=8)"
   ]
  },
  {
   "cell_type": "code",
   "execution_count": 6,
   "metadata": {},
   "outputs": [
    {
     "name": "stdout",
     "output_type": "stream",
     "text": [
      "Fitting 5 folds for each of 2304 candidates, totalling 11520 fits\n"
     ]
    },
    {
     "name": "stderr",
     "output_type": "stream",
     "text": [
      "[Parallel(n_jobs=8)]: Using backend LokyBackend with 8 concurrent workers.\n",
      "[Parallel(n_jobs=8)]: Done  34 tasks      | elapsed:    1.4s\n",
      "[Parallel(n_jobs=8)]: Done 560 tasks      | elapsed:    4.2s\n",
      "[Parallel(n_jobs=8)]: Done 1560 tasks      | elapsed:   11.2s\n",
      "[Parallel(n_jobs=8)]: Done 2960 tasks      | elapsed:   31.2s\n",
      "[Parallel(n_jobs=8)]: Done 4760 tasks      | elapsed:   46.5s\n",
      "[Parallel(n_jobs=8)]: Done 6960 tasks      | elapsed:  1.1min\n",
      "[Parallel(n_jobs=8)]: Done 9560 tasks      | elapsed:  1.6min\n",
      "[Parallel(n_jobs=8)]: Done 11505 out of 11520 | elapsed:  2.0min remaining:    0.2s\n",
      "[Parallel(n_jobs=8)]: Done 11520 out of 11520 | elapsed:  2.0min finished\n"
     ]
    },
    {
     "data": {
      "text/plain": [
       "GridSearchCV(cv=5,\n",
       "             estimator=Pipeline(steps=[('cvec', CountVectorizer()),\n",
       "                                       ('dtc', DecisionTreeClassifier())]),\n",
       "             n_jobs=8,\n",
       "             param_grid={'cvec__max_features': [200, 300, 400, 500],\n",
       "                         'cvec__ngram_range': [(1, 1), (1, 2)],\n",
       "                         'cvec__stop_words': [None, ['Sherlock', 'Poirot'],\n",
       "                                              'english'],\n",
       "                         'dtc__ccp_alpha': [0, 0.001, 0.01, 0.1, 1, 10],\n",
       "                         'dtc__max_depth': [2, 3],\n",
       "                         'dtc__min_samples_leaf': [2, 3],\n",
       "                         'dtc__min_samples_split': [2, 5],\n",
       "                         'dtc__splitter': ['random', 'best']},\n",
       "             verbose=1)"
      ]
     },
     "execution_count": 6,
     "metadata": {},
     "output_type": "execute_result"
    }
   ],
   "source": [
    "# Fit GridSearch to training data.\n",
    "gs_dtc.fit(X_train, y_train)"
   ]
  },
  {
   "cell_type": "code",
   "execution_count": 7,
   "metadata": {},
   "outputs": [
    {
     "data": {
      "text/plain": [
       "{'cvec__max_features': 200,\n",
       " 'cvec__ngram_range': (1, 1),\n",
       " 'cvec__stop_words': None,\n",
       " 'dtc__ccp_alpha': 0,\n",
       " 'dtc__max_depth': 3,\n",
       " 'dtc__min_samples_leaf': 2,\n",
       " 'dtc__min_samples_split': 2,\n",
       " 'dtc__splitter': 'best'}"
      ]
     },
     "execution_count": 7,
     "metadata": {},
     "output_type": "execute_result"
    }
   ],
   "source": [
    "gs_dtc.best_params_"
   ]
  },
  {
   "cell_type": "markdown",
   "metadata": {
    "collapsed": true
   },
   "source": [
    "### Run the model on Test data"
   ]
  },
  {
   "cell_type": "code",
   "execution_count": 8,
   "metadata": {},
   "outputs": [
    {
     "name": "stdout",
     "output_type": "stream",
     "text": [
      "Training Score from best Decision Tree Classifier: 0.8810975609756098\n",
      "Test Score from best Decision Tree Classifier: 0.8473282442748091\n"
     ]
    }
   ],
   "source": [
    "# Evaluate the best fit model on the test data.\n",
    "best_nb = gs_dtc.best_estimator_\n",
    "print(f\"Training Score from best Decision Tree Classifier: {gs_dtc.score(X_train , y_train)}\")\n",
    "print(f\"Test Score from best Decision Tree Classifier: {gs_dtc.score(X_test, y_test)}\") "
   ]
  },
  {
   "cell_type": "code",
   "execution_count": 9,
   "metadata": {},
   "outputs": [],
   "source": [
    "#Training Score from best Decision Tree Classifier: 0.8810975609756098\n",
    "#Test Score from best Decision Tree Classifier: 0.8473282442748091"
   ]
  }
 ],
 "metadata": {
  "kernelspec": {
   "display_name": "Python 3",
   "language": "python",
   "name": "python3"
  },
  "language_info": {
   "codemirror_mode": {
    "name": "ipython",
    "version": 3
   },
   "file_extension": ".py",
   "mimetype": "text/x-python",
   "name": "python",
   "nbconvert_exporter": "python",
   "pygments_lexer": "ipython3",
   "version": "3.8.3"
  }
 },
 "nbformat": 4,
 "nbformat_minor": 4
}
