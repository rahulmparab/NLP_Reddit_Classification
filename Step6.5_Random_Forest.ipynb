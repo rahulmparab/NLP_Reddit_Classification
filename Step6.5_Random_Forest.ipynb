{
 "cells": [
  {
   "cell_type": "markdown",
   "metadata": {},
   "source": [
    "# Import python libraries"
   ]
  },
  {
   "cell_type": "code",
   "execution_count": 1,
   "metadata": {},
   "outputs": [],
   "source": [
    "# imports\n",
    "import pandas as pd\n",
    "import matplotlib.pyplot as plt\n",
    "\n",
    "from sklearn.pipeline import Pipeline\n",
    "\n",
    "from sklearn.metrics import confusion_matrix, plot_confusion_matrix\n",
    "\n",
    "from sklearn.model_selection import GridSearchCV , train_test_split, cross_val_score\n",
    "from sklearn.ensemble import RandomForestClassifier , ExtraTreesClassifier  \n",
    "from sklearn.preprocessing import OneHotEncoder\n",
    "\n",
    "\n",
    "# Import CountVectorizer and TFIDFVectorizer from feature_extraction.text.\n",
    "from sklearn.feature_extraction.text import CountVectorizer, TfidfVectorizer"
   ]
  },
  {
   "cell_type": "markdown",
   "metadata": {},
   "source": [
    "### Import Train and Test Data"
   ]
  },
  {
   "cell_type": "code",
   "execution_count": 2,
   "metadata": {},
   "outputs": [],
   "source": [
    "X_train= pd.read_csv(\"./datasets/X_train.csv\" , squeeze = True)\n",
    "y_train= pd.read_csv(\"./datasets/y_train.csv\", squeeze = True)\n",
    "\n",
    "X_test= pd.read_csv(\"./datasets/X_test.csv\" , squeeze = True)\n",
    "y_test= pd.read_csv(\"./datasets/y_test.csv\", squeeze = True)"
   ]
  },
  {
   "cell_type": "markdown",
   "metadata": {},
   "source": [
    "### Model 5: Random Forest : Pipeline - GridSearch"
   ]
  },
  {
   "cell_type": "code",
   "execution_count": 3,
   "metadata": {},
   "outputs": [],
   "source": [
    "# Let's set a pipeline up with two stages:\n",
    "# 1. CountVectorizer (transformer)\n",
    "# 2. Random Forest Classifier (estimator)\n",
    "pipe = Pipeline([\n",
    "    ('cvec', CountVectorizer()),\n",
    "    ('rfc', RandomForestClassifier())\n",
    "])"
   ]
  },
  {
   "cell_type": "code",
   "execution_count": 4,
   "metadata": {},
   "outputs": [],
   "source": [
    "# Search over the following values of hyperparameters:\n",
    "# Maximum number of features fit: 2000, 3000, 4000, 5000\n",
    "# Minimum number of documents needed to include token: 2, 3\n",
    "# Maximum number of documents needed to include token: 90%, 95%\n",
    "# Check (individual tokens) and also check (individual tokens and 2-grams).\n",
    "pipe_params = {\n",
    "    'cvec__max_features' : [200, 300, 400, 500],\n",
    "    'cvec__stop_words' : [None,['Sherlock' , 'Poirot'], 'english'],\n",
    "    'cvec__ngram_range' : [(1,1), (1,2)],\n",
    "    'rfc__criterion':['gini', 'entropy'],\n",
    "    'rfc__max_features': ['auto', 'sqrt', 'log2'],\n",
    "    'rfc__ccp_alpha' : [0, 0.001, 0.01, 0.1, 1, 10]\n",
    "}"
   ]
  },
  {
   "cell_type": "code",
   "execution_count": 5,
   "metadata": {},
   "outputs": [],
   "source": [
    "# Instantiate GridSearchCV.\n",
    "gs_rfc = GridSearchCV(pipe,\n",
    "                      pipe_params,\n",
    "                      cv = 5,\n",
    "                      verbose=1,\n",
    "                      n_jobs=8)"
   ]
  },
  {
   "cell_type": "code",
   "execution_count": 6,
   "metadata": {},
   "outputs": [
    {
     "name": "stdout",
     "output_type": "stream",
     "text": [
      "Fitting 5 folds for each of 864 candidates, totalling 4320 fits\n"
     ]
    },
    {
     "name": "stderr",
     "output_type": "stream",
     "text": [
      "[Parallel(n_jobs=8)]: Using backend LokyBackend with 8 concurrent workers.\n",
      "[Parallel(n_jobs=8)]: Done  34 tasks      | elapsed:    2.2s\n",
      "[Parallel(n_jobs=8)]: Done 184 tasks      | elapsed:    6.4s\n",
      "[Parallel(n_jobs=8)]: Done 434 tasks      | elapsed:   14.0s\n",
      "[Parallel(n_jobs=8)]: Done 784 tasks      | elapsed:   27.2s\n",
      "[Parallel(n_jobs=8)]: Done 1234 tasks      | elapsed:   43.1s\n",
      "[Parallel(n_jobs=8)]: Done 1784 tasks      | elapsed:  1.0min\n",
      "[Parallel(n_jobs=8)]: Done 2434 tasks      | elapsed:  1.4min\n",
      "[Parallel(n_jobs=8)]: Done 3184 tasks      | elapsed:  1.9min\n",
      "[Parallel(n_jobs=8)]: Done 4034 tasks      | elapsed:  2.4min\n",
      "[Parallel(n_jobs=8)]: Done 4320 out of 4320 | elapsed:  2.6min finished\n"
     ]
    },
    {
     "data": {
      "text/plain": [
       "GridSearchCV(cv=5,\n",
       "             estimator=Pipeline(steps=[('cvec', CountVectorizer()),\n",
       "                                       ('rfc', RandomForestClassifier())]),\n",
       "             n_jobs=8,\n",
       "             param_grid={'cvec__max_features': [200, 300, 400, 500],\n",
       "                         'cvec__ngram_range': [(1, 1), (1, 2)],\n",
       "                         'cvec__stop_words': [None, ['Sherlock', 'Poirot'],\n",
       "                                              'english'],\n",
       "                         'rfc__ccp_alpha': [0, 0.001, 0.01, 0.1, 1, 10],\n",
       "                         'rfc__criterion': ['gini', 'entropy'],\n",
       "                         'rfc__max_features': ['auto', 'sqrt', 'log2']},\n",
       "             verbose=1)"
      ]
     },
     "execution_count": 6,
     "metadata": {},
     "output_type": "execute_result"
    }
   ],
   "source": [
    "# Fit GridSearch to training data.\n",
    "gs_rfc.fit(X_train, y_train)"
   ]
  },
  {
   "cell_type": "code",
   "execution_count": 7,
   "metadata": {},
   "outputs": [],
   "source": [
    "gs_rfc_df = pd.DataFrame(gs_rfc.cv_results_)"
   ]
  },
  {
   "cell_type": "code",
   "execution_count": 8,
   "metadata": {},
   "outputs": [
    {
     "data": {
      "text/plain": [
       "Pipeline(steps=[('cvec',\n",
       "                 CountVectorizer(max_features=500, stop_words='english')),\n",
       "                ('rfc',\n",
       "                 RandomForestClassifier(ccp_alpha=0, criterion='entropy',\n",
       "                                        max_features='log2'))])"
      ]
     },
     "execution_count": 8,
     "metadata": {},
     "output_type": "execute_result"
    }
   ],
   "source": [
    "gs_rfc.best_estimator_"
   ]
  },
  {
   "cell_type": "code",
   "execution_count": 9,
   "metadata": {},
   "outputs": [
    {
     "data": {
      "text/plain": [
       "{'cvec__max_features': 500,\n",
       " 'cvec__ngram_range': (1, 1),\n",
       " 'cvec__stop_words': 'english',\n",
       " 'rfc__ccp_alpha': 0,\n",
       " 'rfc__criterion': 'entropy',\n",
       " 'rfc__max_features': 'log2'}"
      ]
     },
     "execution_count": 9,
     "metadata": {},
     "output_type": "execute_result"
    }
   ],
   "source": [
    "gs_rfc.best_params_"
   ]
  },
  {
   "cell_type": "markdown",
   "metadata": {
    "collapsed": true
   },
   "source": [
    "### Run the model on Test data"
   ]
  },
  {
   "cell_type": "code",
   "execution_count": 10,
   "metadata": {},
   "outputs": [
    {
     "name": "stdout",
     "output_type": "stream",
     "text": [
      "Training Score from best Random Forest: 0.9939024390243902\n",
      "Test Score from best Random Forest: 0.9045801526717557\n"
     ]
    }
   ],
   "source": [
    "# Evaluate the best fit model on the test data.\n",
    "best_rfc = gs_rfc.best_estimator_\n",
    "print(f\"Training Score from best Random Forest: {gs_rfc.score(X_train , y_train)}\")\n",
    "print(f\"Test Score from best Random Forest: {gs_rfc.score(X_test, y_test)}\") "
   ]
  },
  {
   "cell_type": "code",
   "execution_count": null,
   "metadata": {},
   "outputs": [],
   "source": []
  }
 ],
 "metadata": {
  "kernelspec": {
   "display_name": "Python 3",
   "language": "python",
   "name": "python3"
  },
  "language_info": {
   "codemirror_mode": {
    "name": "ipython",
    "version": 3
   },
   "file_extension": ".py",
   "mimetype": "text/x-python",
   "name": "python",
   "nbconvert_exporter": "python",
   "pygments_lexer": "ipython3",
   "version": "3.8.3"
  }
 },
 "nbformat": 4,
 "nbformat_minor": 4
}
